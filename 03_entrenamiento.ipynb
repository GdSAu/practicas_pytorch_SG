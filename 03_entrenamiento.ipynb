{
 "cells": [
  {
   "cell_type": "markdown",
   "metadata": {},
   "source": [
    "# Entrenamiento de una red neuronal\n",
    "\n",
    "Al entrenar una red buscamos que ésta tenga un comportamiendo presumiblemente adecuado y observable en un conjunto de datos. Es decír a partir del conjunto de ejemplos esperamos que la red aprenda una función $f$ tal que la salida de la red imite el patrón en los datos. En nuestro caso, al utilizar el conjunto de entrenamiento MNIST esperamos que la función aprendida provea como salida el número al cual corresponde la imagen de entrada.\n",
    "\n",
    "<img src=\"archivos/function_approx.png\">\n",
    "\n",
    "Imagen tomada de [1]\n",
    "\n"
   ]
  },
  {
   "cell_type": "markdown",
   "metadata": {},
   "source": [
    "## Retropropagación y Autograd\n",
    "\n",
    "Pytorch provee el módulo *autograd* para calcular los gradientes, y si, !nos evita estar calculando las derivadas! Esto lo realiza a partir de mantener en la vista todas las operaciones que se ejecutan sobre los tensores.\n",
    "\n",
    "Si deseas asegurarte que autograd siga a un tensor especificamos *requires_grad*. Esto se puede hacer en la creación o en cualquier momento. \n",
    "\n",
    "Veamos el siguiente código de ejemplo:\n",
    "\n",
    "```python\n",
    "# especificamos que la variable x es seguida por autograd\n",
    "x = torch.zeros(1, requires_grad=True)\n",
    "# si en algún momento desamos que temporalmente se deje de seguir el tensor usamos\n",
    ">>> with torch.no_grad():\n",
    "...     y = x * 2\n",
    "# establecemos de nuevo el seguimiento\n",
    ">>> y.requires_grad\n",
    "```\n",
    "\n",
    "Si queremos eliminar autograd de todos los tensores usamos `torch.set_grad_enabled(True|False)`.\n",
    "\n",
    "\n",
    "Ahora bien, para calcular los gradientes simplemente usamos el método *backward()*. Por ejemplo para un tensor *cualquiera* hacemos *z.backward()*\n",
    "\n",
    "Veamos a continuación el uso del gradiente."
   ]
  },
  {
   "cell_type": "code",
   "execution_count": 1,
   "metadata": {},
   "outputs": [],
   "source": [
    "# importamos paquetes\n",
    "%matplotlib inline\n",
    "%config InlineBackend.figure_format = 'retina'\n",
    "\n",
    "from collections import OrderedDict\n",
    "\n",
    "import numpy as np\n",
    "import time\n",
    "\n",
    "import torch\n",
    "from torch import nn\n",
    "from torch import optim\n",
    "import torch.nn.functional as F\n",
    "\n",
    "import helper"
   ]
  },
  {
   "cell_type": "code",
   "execution_count": 2,
   "metadata": {},
   "outputs": [
    {
     "name": "stdout",
     "output_type": "stream",
     "text": [
      "tensor([-0.3605,  0.6653, -0.9058, -1.6002], requires_grad=True)\n"
     ]
    }
   ],
   "source": [
    "# especificamos que el tensor x es seguido por autograd \n",
    "x = torch.randn(4, requires_grad=True)\n",
    "print(x)"
   ]
  },
  {
   "cell_type": "code",
   "execution_count": 3,
   "metadata": {},
   "outputs": [
    {
     "name": "stdout",
     "output_type": "stream",
     "text": [
      "tensor([0.1299, 0.4426, 0.8205, 2.5606], grad_fn=<PowBackward0>)\n"
     ]
    }
   ],
   "source": [
    "# generamos un nuevo tensor a partir de x\n",
    "# por ejemplo elevemos al cuadrado la variable x\n",
    "y = x**2\n",
    "print(y)"
   ]
  },
  {
   "cell_type": "code",
   "execution_count": 4,
   "metadata": {},
   "outputs": [
    {
     "name": "stdout",
     "output_type": "stream",
     "text": [
      "<PowBackward0 object at 0x0000019E2FAB96D0>\n"
     ]
    }
   ],
   "source": [
    "## con grad_fn observamos la operación que generó y, es decir una operación potencia (pow)\n",
    "print(y.grad_fn)\n"
   ]
  },
  {
   "cell_type": "code",
   "execution_count": 5,
   "metadata": {},
   "outputs": [
    {
     "name": "stdout",
     "output_type": "stream",
     "text": [
      "tensor(0.9884, grad_fn=<MeanBackward0>)\n"
     ]
    }
   ],
   "source": [
    "# De esta forma es posible saber las operaciónes que generan cada tensor, y por tanto, es posible calcular el gradiente.\n",
    "# Hagamos ahora una operación de media\n",
    "z = y.mean()\n",
    "print(z)"
   ]
  },
  {
   "cell_type": "code",
   "execution_count": 6,
   "metadata": {},
   "outputs": [
    {
     "name": "stdout",
     "output_type": "stream",
     "text": [
      "None\n"
     ]
    }
   ],
   "source": [
    "# hasta este momento los gradientes son cero\n",
    "print(x.grad)"
   ]
  },
  {
   "cell_type": "markdown",
   "metadata": {},
   "source": [
    "Para calcular los gradientes es necesario llamar al método *.backward* sobre la variable. Supongamos sobre *z*. Esto calcula el gradiente de z con respecto de x.\n",
    "\n",
    "El gradiente analítico de las operaciónes que hicimos es:\n",
    "$$\n",
    "\\frac{\\partial z}{\\partial x} = \\frac{\\partial}{\\partial x}\\left[\\frac{1}{n}\\sum_i^n x_i^2\\right] = \\frac{x}{2}\n",
    "$$\n",
    "\n",
    "Ahora comprobemos"
   ]
  },
  {
   "cell_type": "code",
   "execution_count": 7,
   "metadata": {},
   "outputs": [
    {
     "name": "stdout",
     "output_type": "stream",
     "text": [
      "tensor([-0.1802,  0.3326, -0.4529, -0.8001])\n",
      "tensor([-0.1802,  0.3326, -0.4529, -0.8001], grad_fn=<DivBackward0>)\n"
     ]
    }
   ],
   "source": [
    "z.backward()\n",
    "print(x.grad)\n",
    "\n",
    "print(x/2)"
   ]
  },
  {
   "cell_type": "markdown",
   "metadata": {},
   "source": [
    "## Conjunto de datos y red neuronal\n",
    "\n",
    "Ahora descargemos los datos y generemos una red tal cual lo vimos en el notebook anterior. "
   ]
  },
  {
   "cell_type": "code",
   "execution_count": 8,
   "metadata": {},
   "outputs": [],
   "source": [
    "from torchvision import datasets, transforms\n",
    "\n",
    "# Define a transform to normalize the data\n",
    "transform = transforms.Compose([transforms.ToTensor(),\n",
    "                                #transforms.Normalize((0.5, 0.5, 0.5), (0.5, 0.5, 0.5)),\n",
    "                                transforms.Normalize([0.5],[0.5])\n",
    "                             ])\n",
    "# Download and load the training data\n",
    "trainset = datasets.MNIST('MNIST_data/', download=True, train=True, transform=transform)\n",
    "trainloader = torch.utils.data.DataLoader(trainset, batch_size=64, shuffle=True)"
   ]
  },
  {
   "cell_type": "code",
   "execution_count": 9,
   "metadata": {},
   "outputs": [],
   "source": [
    "# Hyperparameters for our network\n",
    "input_size = 784\n",
    "hidden_sizes = [128, 64]\n",
    "output_size = 10\n",
    "\n",
    "# Build a feed-forward network\n",
    "model = nn.Sequential(OrderedDict([\n",
    "                      ('fc1', nn.Linear(input_size, hidden_sizes[0])),\n",
    "                      ('relu1', nn.ReLU()),\n",
    "                      ('fc2', nn.Linear(hidden_sizes[0], hidden_sizes[1])),\n",
    "                      ('relu2', nn.ReLU()),\n",
    "                      ('logits', nn.Linear(hidden_sizes[1], output_size))]))\n",
    "\n",
    "# NOTA solo calcularemos los logits y definiremos la perdida a partir de ellos"
   ]
  },
  {
   "cell_type": "markdown",
   "metadata": {},
   "source": [
    "## Entrenamiento de la red"
   ]
  },
  {
   "cell_type": "markdown",
   "metadata": {},
   "source": [
    "Lo primero que definiremos será la función de pérdida (loss) que es nombrada en pytorch como **criterion**. En este ejemplo estamos utilizando softmax, asi que definimos el criterio como *criterion = nn.CrossEntropyLoss()*. Más tarde, en el entrenamiento, veremos que *loss = criterion(output, targets)* calcula la pérdida.\n",
    "\n",
    "Lo segundo que definiremos será el optimizador, para este ejemplo usaremos SGD (stochastic gradient descent). Simplemente llamamos a *torch.optim.SGD* y le pasamos los parámetros de la red y el lerning rate. \n"
   ]
  },
  {
   "cell_type": "code",
   "execution_count": 10,
   "metadata": {},
   "outputs": [],
   "source": [
    "criterion = nn.CrossEntropyLoss()\n",
    "optimizer = optim.SGD(model.parameters(), lr=0.01)"
   ]
  },
  {
   "cell_type": "markdown",
   "metadata": {},
   "source": [
    "Antes de relizar el entrenamiento completo haremos un paso del aprendizaje. Este paso se compone de las siguientes tareas:\n",
    "\n",
    "1. Realizar un pase frontal de la red\n",
    "2. Utilizar los logits para calcular la pérdida\n",
    "3. Realizar la retropropagación para calcular los gradientes.\n",
    "4. Actualizar los pesos usando el optimizador.\n",
    "\n",
    "Veamos el ejemplo\n"
   ]
  },
  {
   "cell_type": "code",
   "execution_count": 11,
   "metadata": {},
   "outputs": [
    {
     "name": "stdout",
     "output_type": "stream",
     "text": [
      "Initial weights -  Parameter containing:\n",
      "tensor([[ 0.0320,  0.0320, -0.0152,  ..., -0.0146, -0.0243,  0.0337],\n",
      "        [-0.0054,  0.0152, -0.0116,  ...,  0.0312, -0.0337, -0.0340],\n",
      "        [ 0.0107,  0.0110, -0.0164,  ..., -0.0074,  0.0237,  0.0246],\n",
      "        ...,\n",
      "        [-0.0340, -0.0299, -0.0295,  ...,  0.0284,  0.0231, -0.0325],\n",
      "        [-0.0001, -0.0007,  0.0217,  ..., -0.0302,  0.0290,  0.0221],\n",
      "        [ 0.0140, -0.0025,  0.0348,  ..., -0.0214,  0.0345, -0.0017]],\n",
      "       requires_grad=True)\n"
     ]
    }
   ],
   "source": [
    "print('Initial weights - ', model.fc1.weight)\n"
   ]
  },
  {
   "cell_type": "code",
   "execution_count": 12,
   "metadata": {},
   "outputs": [
    {
     "name": "stdout",
     "output_type": "stream",
     "text": [
      "Gradient - tensor([[ 0.0005,  0.0005,  0.0005,  ...,  0.0005,  0.0005,  0.0005],\n",
      "        [-0.0039, -0.0039, -0.0039,  ..., -0.0039, -0.0039, -0.0039],\n",
      "        [ 0.0011,  0.0011,  0.0011,  ...,  0.0011,  0.0011,  0.0011],\n",
      "        ...,\n",
      "        [-0.0027, -0.0027, -0.0027,  ..., -0.0027, -0.0027, -0.0027],\n",
      "        [-0.0008, -0.0008, -0.0008,  ..., -0.0008, -0.0008, -0.0008],\n",
      "        [ 0.0000,  0.0000,  0.0000,  ...,  0.0000,  0.0000,  0.0000]])\n"
     ]
    }
   ],
   "source": [
    "images, labels = iter(trainloader).next()\n",
    "images.resize_(64, 784)\n",
    "\n",
    "# Limpiar los gradientes por que se acumulan\n",
    "optimizer.zero_grad()\n",
    "\n",
    "# Pase hacia adelante\n",
    "output = model.forward(images)\n",
    "# Perdida\n",
    "loss = criterion(output, labels)\n",
    "# Pase de reversa\n",
    "loss.backward()\n",
    "print('Gradient -', model.fc1.weight.grad)\n",
    "# Actualiza los pesos de acuerdo a un paso del optimizador\n",
    "optimizer.step()"
   ]
  },
  {
   "cell_type": "code",
   "execution_count": 13,
   "metadata": {},
   "outputs": [
    {
     "name": "stdout",
     "output_type": "stream",
     "text": [
      "Updated weights -  Parameter containing:\n",
      "tensor([[ 0.0320,  0.0320, -0.0152,  ..., -0.0146, -0.0243,  0.0337],\n",
      "        [-0.0054,  0.0152, -0.0116,  ...,  0.0312, -0.0336, -0.0339],\n",
      "        [ 0.0107,  0.0110, -0.0164,  ..., -0.0074,  0.0237,  0.0246],\n",
      "        ...,\n",
      "        [-0.0340, -0.0299, -0.0294,  ...,  0.0285,  0.0231, -0.0325],\n",
      "        [-0.0001, -0.0007,  0.0217,  ..., -0.0302,  0.0290,  0.0221],\n",
      "        [ 0.0140, -0.0025,  0.0348,  ..., -0.0214,  0.0345, -0.0017]],\n",
      "       requires_grad=True)\n"
     ]
    }
   ],
   "source": [
    "print('Updated weights - ', model.fc1.weight)"
   ]
  },
  {
   "cell_type": "markdown",
   "metadata": {},
   "source": [
    "## Entrenamiento por épocas\n",
    "\n",
    "Ahora si, entrenemos la red por varias épocas. Para ello programaremos el algoritmo de gradiente descendente que de forma general funciona con los siguientes pasos:\n",
    "\n",
    "- Para un número de *épocas*:\n",
    "    - Para cada *lote* en el conjunto de datos:\n",
    "        - Salida = Red predice usando el *lote*\n",
    "        - Calcular *pérdida* a partir de la *salida* y de las *etiquetas* reales\n",
    "        - Error = Retropropagación a partir de la *pérdida*\n",
    "        - Actualizar pesos\n",
    "        \n",
    "    "
   ]
  },
  {
   "cell_type": "code",
   "execution_count": 14,
   "metadata": {},
   "outputs": [],
   "source": [
    "# configuración del optimizador\n",
    "optimizer = optim.SGD(model.parameters(), lr=0.003)"
   ]
  },
  {
   "cell_type": "code",
   "execution_count": 15,
   "metadata": {},
   "outputs": [
    {
     "name": "stdout",
     "output_type": "stream",
     "text": [
      "Epoch: 1/5...  Loss: 2.2961\n",
      "Epoch: 1/5...  Loss: 2.2736\n",
      "Epoch: 1/5...  Loss: 2.2552\n",
      "Epoch: 1/5...  Loss: 2.2343\n",
      "Epoch: 1/5...  Loss: 2.2112\n",
      "Epoch: 1/5...  Loss: 2.1819\n",
      "Epoch: 1/5...  Loss: 2.1581\n",
      "Epoch: 1/5...  Loss: 2.1181\n",
      "Epoch: 1/5...  Loss: 2.0934\n",
      "Epoch: 1/5...  Loss: 2.0538\n",
      "Epoch: 1/5...  Loss: 2.0038\n",
      "Epoch: 1/5...  Loss: 1.9668\n",
      "Epoch: 1/5...  Loss: 1.9088\n",
      "Epoch: 1/5...  Loss: 1.8657\n",
      "Epoch: 1/5...  Loss: 1.8113\n",
      "Epoch: 1/5...  Loss: 1.7516\n",
      "Epoch: 1/5...  Loss: 1.6943\n",
      "Epoch: 1/5...  Loss: 1.6202\n",
      "Epoch: 1/5...  Loss: 1.5527\n",
      "Epoch: 1/5...  Loss: 1.4948\n",
      "Epoch: 1/5...  Loss: 1.4182\n",
      "Epoch: 1/5...  Loss: 1.3578\n",
      "Epoch: 1/5...  Loss: 1.3253\n",
      "Epoch: 2/5...  Loss: 0.6951\n",
      "Epoch: 2/5...  Loss: 1.1950\n",
      "Epoch: 2/5...  Loss: 1.1275\n",
      "Epoch: 2/5...  Loss: 1.0853\n",
      "Epoch: 2/5...  Loss: 1.0241\n",
      "Epoch: 2/5...  Loss: 0.9971\n",
      "Epoch: 2/5...  Loss: 0.9750\n",
      "Epoch: 2/5...  Loss: 0.9203\n",
      "Epoch: 2/5...  Loss: 0.9001\n",
      "Epoch: 2/5...  Loss: 0.8471\n",
      "Epoch: 2/5...  Loss: 0.8274\n",
      "Epoch: 2/5...  Loss: 0.7912\n",
      "Epoch: 2/5...  Loss: 0.7567\n",
      "Epoch: 2/5...  Loss: 0.7391\n",
      "Epoch: 2/5...  Loss: 0.7176\n",
      "Epoch: 2/5...  Loss: 0.7120\n",
      "Epoch: 2/5...  Loss: 0.6719\n",
      "Epoch: 2/5...  Loss: 0.6704\n",
      "Epoch: 2/5...  Loss: 0.6466\n",
      "Epoch: 2/5...  Loss: 0.6577\n",
      "Epoch: 2/5...  Loss: 0.6302\n",
      "Epoch: 2/5...  Loss: 0.6345\n",
      "Epoch: 2/5...  Loss: 0.6273\n",
      "Epoch: 3/5...  Loss: 0.0580\n",
      "Epoch: 3/5...  Loss: 0.6013\n",
      "Epoch: 3/5...  Loss: 0.5881\n",
      "Epoch: 3/5...  Loss: 0.5662\n",
      "Epoch: 3/5...  Loss: 0.5659\n",
      "Epoch: 3/5...  Loss: 0.5532\n",
      "Epoch: 3/5...  Loss: 0.5173\n",
      "Epoch: 3/5...  Loss: 0.5519\n",
      "Epoch: 3/5...  Loss: 0.5325\n",
      "Epoch: 3/5...  Loss: 0.5241\n",
      "Epoch: 3/5...  Loss: 0.5213\n",
      "Epoch: 3/5...  Loss: 0.5099\n",
      "Epoch: 3/5...  Loss: 0.5002\n",
      "Epoch: 3/5...  Loss: 0.5044\n",
      "Epoch: 3/5...  Loss: 0.4929\n",
      "Epoch: 3/5...  Loss: 0.4768\n",
      "Epoch: 3/5...  Loss: 0.5065\n",
      "Epoch: 3/5...  Loss: 0.4837\n",
      "Epoch: 3/5...  Loss: 0.4560\n",
      "Epoch: 3/5...  Loss: 0.4626\n",
      "Epoch: 3/5...  Loss: 0.4663\n",
      "Epoch: 3/5...  Loss: 0.4771\n",
      "Epoch: 3/5...  Loss: 0.4734\n",
      "Epoch: 3/5...  Loss: 0.4604\n",
      "Epoch: 4/5...  Loss: 0.2853\n",
      "Epoch: 4/5...  Loss: 0.4411\n",
      "Epoch: 4/5...  Loss: 0.4220\n",
      "Epoch: 4/5...  Loss: 0.4662\n",
      "Epoch: 4/5...  Loss: 0.4588\n",
      "Epoch: 4/5...  Loss: 0.4600\n",
      "Epoch: 4/5...  Loss: 0.4477\n",
      "Epoch: 4/5...  Loss: 0.4174\n",
      "Epoch: 4/5...  Loss: 0.4283\n",
      "Epoch: 4/5...  Loss: 0.4004\n",
      "Epoch: 4/5...  Loss: 0.4604\n",
      "Epoch: 4/5...  Loss: 0.4216\n",
      "Epoch: 4/5...  Loss: 0.4187\n",
      "Epoch: 4/5...  Loss: 0.4609\n",
      "Epoch: 4/5...  Loss: 0.4143\n",
      "Epoch: 4/5...  Loss: 0.4235\n",
      "Epoch: 4/5...  Loss: 0.4213\n",
      "Epoch: 4/5...  Loss: 0.4078\n",
      "Epoch: 4/5...  Loss: 0.4341\n",
      "Epoch: 4/5...  Loss: 0.4048\n",
      "Epoch: 4/5...  Loss: 0.3985\n",
      "Epoch: 4/5...  Loss: 0.3816\n",
      "Epoch: 4/5...  Loss: 0.3866\n",
      "Epoch: 5/5...  Loss: 0.0728\n",
      "Epoch: 5/5...  Loss: 0.4147\n",
      "Epoch: 5/5...  Loss: 0.4077\n",
      "Epoch: 5/5...  Loss: 0.4147\n",
      "Epoch: 5/5...  Loss: 0.3976\n",
      "Epoch: 5/5...  Loss: 0.3728\n",
      "Epoch: 5/5...  Loss: 0.3989\n",
      "Epoch: 5/5...  Loss: 0.3644\n",
      "Epoch: 5/5...  Loss: 0.3876\n",
      "Epoch: 5/5...  Loss: 0.4099\n",
      "Epoch: 5/5...  Loss: 0.3700\n",
      "Epoch: 5/5...  Loss: 0.3601\n",
      "Epoch: 5/5...  Loss: 0.3677\n",
      "Epoch: 5/5...  Loss: 0.3872\n",
      "Epoch: 5/5...  Loss: 0.3665\n",
      "Epoch: 5/5...  Loss: 0.4056\n",
      "Epoch: 5/5...  Loss: 0.3790\n",
      "Epoch: 5/5...  Loss: 0.3465\n",
      "Epoch: 5/5...  Loss: 0.3896\n",
      "Epoch: 5/5...  Loss: 0.3704\n",
      "Epoch: 5/5...  Loss: 0.3918\n",
      "Epoch: 5/5...  Loss: 0.3618\n",
      "Epoch: 5/5...  Loss: 0.3950\n",
      "Epoch: 5/5...  Loss: 0.3928\n"
     ]
    }
   ],
   "source": [
    "# hiperparámetro: número de épocas\n",
    "epochs = 5\n",
    "print_every = 40\n",
    "steps = 0\n",
    "\n",
    "for e in range(epochs):\n",
    "    running_loss = 0\n",
    "    # en cada iteración del for cargamos un batch\n",
    "    for images, labels in iter(trainloader):\n",
    "        steps += 1\n",
    "        # Aplanar las imagenes de MNIST\n",
    "        images.resize_(images.size()[0], 784)\n",
    "        \n",
    "        # Reiniciar el gradiente\n",
    "        optimizer.zero_grad()\n",
    "        \n",
    "        # Pase frontal de la red\n",
    "        output = model.forward(images)\n",
    "        \n",
    "        # Estimar la perdida\n",
    "        loss = criterion(output, labels)\n",
    "        \n",
    "        # Backprogation\n",
    "        loss.backward()\n",
    "        \n",
    "        # Actualizamos los pesos\n",
    "        optimizer.step()\n",
    "        \n",
    "        # Guardamos la perdida para control del entrenamiento\n",
    "        running_loss += loss.item()\n",
    "        \n",
    "        # imprimimos cada 40 lotes\n",
    "        if steps % print_every == 0:\n",
    "            print(\"Epoch: {}/{}... \".format(e+1, epochs),\n",
    "                  \"Loss: {:.4f}\".format(running_loss/print_every))\n",
    "            \n",
    "            running_loss = 0"
   ]
  },
  {
   "cell_type": "markdown",
   "metadata": {},
   "source": [
    "Finalmente, veamos que tan bien está clasificando la red"
   ]
  },
  {
   "cell_type": "code",
   "execution_count": 16,
   "metadata": {},
   "outputs": [
    {
     "data": {
      "image/png": "[encoded data removed]",
      "text/plain": [
       "<Figure size 432x648 with 2 Axes>"
      ]
     },
     "metadata": {
      "image/png": {
       "height": 235,
       "width": 424
      },
      "needs_background": "light"
     },
     "output_type": "display_data"
    }
   ],
   "source": [
    "images, labels = next(iter(trainloader))\n",
    "\n",
    "img = images[0].view(1, 784)\n",
    "# Turn off gradients to speed up this part\n",
    "with torch.no_grad():\n",
    "    logits = model.forward(img)\n",
    "\n",
    "# Output of the network are logits, need to take softmax for probabilities\n",
    "ps = F.softmax(logits, dim=1)\n",
    "helper.view_classify(img.view(1, 28, 28), ps)"
   ]
  },
  {
   "cell_type": "markdown",
   "metadata": {},
   "source": [
    "## Referencias\n",
    "\n",
    "[1] Udacity Computer vision Nanodegree"
   ]
  },
  {
   "cell_type": "code",
   "execution_count": null,
   "metadata": {},
   "outputs": [],
   "source": []
  }
 ],
 "metadata": {
  "kernelspec": {
   "display_name": "Python 3",
   "language": "python",
   "name": "python3"
  },
  "language_info": {
   "codemirror_mode": {
    "name": "ipython",
    "version": 3
   },
   "file_extension": ".py",
   "mimetype": "text/x-python",
   "name": "python",
   "nbconvert_exporter": "python",
   "pygments_lexer": "ipython3",
   "version": "3.8.5"
  },
  "widgets": {
   "state": {},
   "version": "1.1.2"
  }
 },
 "nbformat": 4,
 "nbformat_minor": 2
}
