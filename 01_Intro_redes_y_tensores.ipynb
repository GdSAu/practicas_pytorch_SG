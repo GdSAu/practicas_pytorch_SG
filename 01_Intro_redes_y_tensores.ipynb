{
 "cells": [
  {
   "cell_type": "markdown",
   "metadata": {},
   "source": [
    "# Introducción\n",
    "\n",
    "## Redes Neuronales\n",
    "\n",
    "Las redes neuronales son un modelo matemático que nos permite aproximar una función. Tienen similitud a las neuronas del cerebro en el sentido que ambas reciben varias entradas, realizan un cálculo y determinan una salida la cual es entrada para otras neuronas. \n",
    "\n",
    "En la siguiente imagen encontrarás una neurona simple, también conocida como perceptrón.\n",
    "\n",
    "<img src=\"archivos/simple_neuron.png\">\n",
    "Imagen tomada de [Udacity]\n",
    "\n",
    "\n",
    "Podemos ver la salida del perceptrón como una secuencia de operaciones, primero se calcula $h$ a partir del producto punto, entre las entradas $X$ y los pesos $W$, sumado a el sesgo $b$, es decir\n",
    "\n",
    "$$h = MX + b$$\n",
    "\n",
    "despúes se 'pasa' $h$ por una función de activación que transforma el valor,\n",
    "\n",
    "$$y = f(h)$$\n",
    "\n",
    "\n",
    "\n",
    "\n"
   ]
  },
  {
   "cell_type": "markdown",
   "metadata": {},
   "source": [
    "## Tensores en Pytorch\n",
    "\n",
    "Los tensores son una generalicación de los vectores y matrices. Cuando hablamos de un tensor de una dimensión nos estamos refierendo a un vector que puede tener n elementos. Podemos tener tensores de varias dimensiones, por ejemplo una matriz 2D sería un tensor 2D y así sucesivamente. Los tensores son la base de muchos paquetes de para programar deep learning, debido a que las redes neuronales son ¡un montón de operaciones matriciales!. Asi que es indispensable tener una representación adecuada. \n",
    "\n",
    "Sin más preámbulo vayamos a la programación."
   ]
  },
  {
   "cell_type": "code",
   "execution_count": 7,
   "metadata": {},
   "outputs": [],
   "source": [
    "# Primero importemos los paquetes necesarios\n",
    "\n",
    "%matplotlib inline\n",
    "%config InlineBackend.figure_format = 'retina'\n",
    "\n",
    "import numpy as np\n",
    "import torch\n"
   ]
  },
  {
   "cell_type": "markdown",
   "metadata": {},
   "source": [
    "Comenzemos a explorar los tensores. Creemos unos tensores y realizemos algunas opereaciones entre ellos."
   ]
  },
  {
   "cell_type": "code",
   "execution_count": 9,
   "metadata": {},
   "outputs": [
    {
     "data": {
      "text/plain": [
       "tensor([[1., 1.],\n",
       "        [1., 1.],\n",
       "        [1., 1.],\n",
       "        [1., 1.]])"
      ]
     },
     "execution_count": 9,
     "metadata": {},
     "output_type": "execute_result"
    }
   ],
   "source": [
    "# Tensor de 3 por 3 elementos relleno de unos\n",
    "y = torch.ones(4,2)\n",
    "y"
   ]
  },
  {
   "cell_type": "code",
   "execution_count": 10,
   "metadata": {},
   "outputs": [
    {
     "data": {
      "text/plain": [
       "tensor([[2., 2.],\n",
       "        [2., 2.],\n",
       "        [2., 2.],\n",
       "        [2., 2.]])"
      ]
     },
     "execution_count": 10,
     "metadata": {},
     "output_type": "execute_result"
    }
   ],
   "source": [
    "# operación entre tensores\n",
    "z = y + y\n",
    "z"
   ]
  },
  {
   "cell_type": "code",
   "execution_count": 14,
   "metadata": {},
   "outputs": [
    {
     "data": {
      "text/plain": [
       "tensor(2.)"
      ]
     },
     "execution_count": 14,
     "metadata": {},
     "output_type": "execute_result"
    }
   ],
   "source": [
    "# acceder a los elementos de un tensor\n",
    "z[1][1]"
   ]
  },
  {
   "cell_type": "code",
   "execution_count": 15,
   "metadata": {},
   "outputs": [
    {
     "data": {
      "text/plain": [
       "tensor([[2.],\n",
       "        [2.],\n",
       "        [2.],\n",
       "        [2.]])"
      ]
     },
     "execution_count": 15,
     "metadata": {},
     "output_type": "execute_result"
    }
   ],
   "source": [
    "z[:,1:]"
   ]
  },
  {
   "cell_type": "markdown",
   "metadata": {},
   "source": [
    "### Reshape\n",
    "\n",
    "Una de las cosas más comunes que realizaŕas con los tensores es consultar su 'forma' es decir, la cantidad de elementos que hay en él, para tal función existe *.size()* \n",
    "\n",
    "Si deseamos cambiar la forma del tensor entonces utilizaremos *.resize_()* Observa que el guión bajo indica que se va a modificar el tensor en sí, si no utilizamos el guión bajo se creará un nuevo tensor."
   ]
  },
  {
   "cell_type": "code",
   "execution_count": 16,
   "metadata": {},
   "outputs": [
    {
     "data": {
      "text/plain": [
       "torch.Size([4, 2])"
      ]
     },
     "execution_count": 16,
     "metadata": {},
     "output_type": "execute_result"
    }
   ],
   "source": [
    "z.size()"
   ]
  },
  {
   "cell_type": "code",
   "execution_count": 17,
   "metadata": {},
   "outputs": [
    {
     "data": {
      "text/plain": [
       "tensor([[2., 2.],\n",
       "        [2., 2.]])"
      ]
     },
     "execution_count": 17,
     "metadata": {},
     "output_type": "execute_result"
    }
   ],
   "source": [
    "z.resize_(2,2)"
   ]
  },
  {
   "cell_type": "markdown",
   "metadata": {},
   "source": [
    "### Pasando Tensores a Numpy\n",
    "\n",
    "Antes de hacer el entrenamiento de una red es muy probable que tengamos que hacer un preprocesamiento de los datos. Usualmente, el procesamiento se hace en numpy por facilidad además que tenemos muchísimas herramientas disponibles. Afortunadamente, pytorch provee una funciones para poder convertir entre formatos de forma casi directa. Para convetir de numpy a tensor usamos *torch.from_numpy()* y para retornar de torch a numpy utilizamos el método *.numpy()*"
   ]
  },
  {
   "cell_type": "code",
   "execution_count": 22,
   "metadata": {},
   "outputs": [
    {
     "data": {
      "text/plain": [
       "array([[ 0.65809854,  0.6714579 ,  0.77434636],\n",
       "       [ 0.22166078,  0.39099203,  0.4845961 ],\n",
       "       [ 0.64008634,  0.42054918,  0.47869051],\n",
       "       [ 0.20627837,  0.65191731,  0.16693925]])"
      ]
     },
     "execution_count": 22,
     "metadata": {},
     "output_type": "execute_result"
    }
   ],
   "source": [
    "# generemos un array en numpy\n",
    "x_np = np.random.rand(4,3)\n",
    "x_np"
   ]
  },
  {
   "cell_type": "code",
   "execution_count": 23,
   "metadata": {},
   "outputs": [
    {
     "data": {
      "text/plain": [
       "tensor([[0.6581, 0.6715, 0.7743],\n",
       "        [0.2217, 0.3910, 0.4846],\n",
       "        [0.6401, 0.4205, 0.4787],\n",
       "        [0.2063, 0.6519, 0.1669]], dtype=torch.float64)"
      ]
     },
     "execution_count": 23,
     "metadata": {},
     "output_type": "execute_result"
    }
   ],
   "source": [
    "# convertir a pytorch\n",
    "x_tc = torch.from_numpy(x_np)\n",
    "x_tc"
   ]
  },
  {
   "cell_type": "markdown",
   "metadata": {},
   "source": [
    "Advertencia! Ten cuidado por que resulta que las variables convertidas de pytorch a numpy comparte memoria asi que si modificas uno se modificará el otro!"
   ]
  },
  {
   "cell_type": "code",
   "execution_count": 25,
   "metadata": {},
   "outputs": [
    {
     "data": {
      "text/plain": [
       "tensor([[1.3162, 1.3429, 1.5487],\n",
       "        [0.4433, 0.7820, 0.9692],\n",
       "        [1.2802, 0.8411, 0.9574],\n",
       "        [0.4126, 1.3038, 0.3339]], dtype=torch.float64)"
      ]
     },
     "execution_count": 25,
     "metadata": {},
     "output_type": "execute_result"
    }
   ],
   "source": [
    "# multipliquemos el tensor\n",
    "x_tc.mul_(2)"
   ]
  },
  {
   "cell_type": "markdown",
   "metadata": {},
   "source": [
    "ahora observemos el array"
   ]
  },
  {
   "cell_type": "code",
   "execution_count": 27,
   "metadata": {},
   "outputs": [
    {
     "data": {
      "text/plain": [
       "array([[ 1.31619707,  1.34291581,  1.54869272],\n",
       "       [ 0.44332156,  0.78198407,  0.9691922 ],\n",
       "       [ 1.28017268,  0.84109837,  0.95738101],\n",
       "       [ 0.41255674,  1.30383463,  0.33387851]])"
      ]
     },
     "execution_count": 27,
     "metadata": {},
     "output_type": "execute_result"
    }
   ],
   "source": [
    "x_np"
   ]
  },
  {
   "cell_type": "code",
   "execution_count": null,
   "metadata": {},
   "outputs": [],
   "source": []
  }
 ],
 "metadata": {
  "kernelspec": {
   "display_name": "Python 3",
   "language": "python",
   "name": "python3"
  },
  "language_info": {
   "codemirror_mode": {
    "name": "ipython",
    "version": 3
   },
   "file_extension": ".py",
   "mimetype": "text/x-python",
   "name": "python",
   "nbconvert_exporter": "python",
   "pygments_lexer": "ipython3",
   "version": "3.5.2"
  },
  "widgets": {
   "state": {},
   "version": "1.1.2"
  }
 },
 "nbformat": 4,
 "nbformat_minor": 2
}
