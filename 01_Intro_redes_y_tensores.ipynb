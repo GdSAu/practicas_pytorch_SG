{
 "cells": [
  {
   "cell_type": "markdown",
   "metadata": {},
   "source": [
    "# Introducción\n",
    "\n",
    "## Redes Neuronales\n",
    "\n",
    "Las redes neuronales son un modelo matemático que nos permite aproximar una función. Tienen similitud a las neuronas del cerebro en el sentido que ambas reciben varias entradas, realizan un cálculo y determinan una salida la cual es entrada para otras neuronas. \n",
    "\n",
    "En la siguiente imagen encontrarás una neurona simple, también conocida como perceptrón.\n",
    "\n",
    "<img src=\"archivos/simple_neuron.png\">\n",
    "Imagen tomada de [Udacity]\n",
    "\n",
    "\n",
    "Podemos ver la salida del perceptrón como una secuencia de operaciones, primero se calcula $h$ a partir del producto punto, entre las entradas $X$ y los pesos $W$, sumado a el sesgo $b$, es decir\n",
    "\n",
    "$$h = MX + b$$\n",
    "\n",
    "despúes se 'pasa' $h$ por una función de activación que transforma el valor,\n",
    "\n",
    "$$y = f(h)$$\n",
    "\n",
    "\n",
    "\n",
    "\n"
   ]
  },
  {
   "cell_type": "markdown",
   "metadata": {},
   "source": [
    "## Tensores en Pytorch\n",
    "\n",
    "Los tensores son una generalicación de los vectores y matrices. Cuando hablamos de un tensor de una dimensión nos estamos refierendo a un vector que puede tener n elementos. Podemos tener tensores de varias dimensiones, por ejemplo una matriz 2D sería un tensor 2D y así sucesivamente. Los tensores son la base de muchos paquetes de para programar deep learning, debido a que las redes neuronales son ¡un montón de operaciones matriciales!. Asi que es indispensable tener una representación adecuada. \n",
    "\n",
    "Sin más preámbulo vayamos a la programación."
   ]
  },
  {
   "cell_type": "code",
   "execution_count": 1,
   "metadata": {},
   "outputs": [],
   "source": [
    "# Primero importemos los paquetes necesarios\n",
    "\n",
    "%matplotlib inline\n",
    "%config InlineBackend.figure_format = 'retina'\n",
    "\n",
    "import numpy as np\n",
    "import torch\n"
   ]
  },
  {
   "cell_type": "markdown",
   "metadata": {},
   "source": [
    "Comenzemos a explorar los tensores. Creemos unos tensores y realizemos algunas opereaciones entre ellos."
   ]
  },
  {
   "cell_type": "code",
   "execution_count": 2,
   "metadata": {},
   "outputs": [
    {
     "data": {
      "text/plain": [
       "tensor([[1., 1.],\n",
       "        [1., 1.],\n",
       "        [1., 1.],\n",
       "        [1., 1.]])"
      ]
     },
     "execution_count": 2,
     "metadata": {},
     "output_type": "execute_result"
    }
   ],
   "source": [
    "# Tensor de 4 por 2 elementos relleno de unos\n",
    "y = torch.ones(4,2)\n",
    "y"
   ]
  },
  {
   "cell_type": "code",
   "execution_count": 3,
   "metadata": {},
   "outputs": [
    {
     "data": {
      "text/plain": [
       "tensor([[2., 2.],\n",
       "        [2., 2.],\n",
       "        [2., 2.],\n",
       "        [2., 2.]])"
      ]
     },
     "execution_count": 3,
     "metadata": {},
     "output_type": "execute_result"
    }
   ],
   "source": [
    "# operación entre tensores\n",
    "z = y + y\n",
    "z"
   ]
  },
  {
   "cell_type": "code",
   "execution_count": 4,
   "metadata": {},
   "outputs": [
    {
     "data": {
      "text/plain": [
       "tensor(2.)"
      ]
     },
     "execution_count": 4,
     "metadata": {},
     "output_type": "execute_result"
    }
   ],
   "source": [
    "# acceder a los elementos de un tensor\n",
    "z[1][1]"
   ]
  },
  {
   "cell_type": "code",
   "execution_count": 5,
   "metadata": {},
   "outputs": [
    {
     "data": {
      "text/plain": [
       "tensor([[2.],\n",
       "        [2.],\n",
       "        [2.],\n",
       "        [2.]])"
      ]
     },
     "execution_count": 5,
     "metadata": {},
     "output_type": "execute_result"
    }
   ],
   "source": [
    "z[:,1:]"
   ]
  },
  {
   "cell_type": "markdown",
   "metadata": {},
   "source": [
    "### Reshape\n",
    "\n",
    "Una de las cosas más comunes que realizaŕas con los tensores es consultar su 'forma' es decir, la cantidad de elementos que hay en él, para tal función existe *.size()* \n",
    "\n",
    "Si deseamos cambiar la forma del tensor entonces utilizaremos *.resize_()* Observa que el guión bajo indica que se va a modificar el tensor en sí, si no utilizamos el guión bajo se creará un nuevo tensor."
   ]
  },
  {
   "cell_type": "code",
   "execution_count": 6,
   "metadata": {},
   "outputs": [
    {
     "data": {
      "text/plain": [
       "torch.Size([4, 2])"
      ]
     },
     "execution_count": 6,
     "metadata": {},
     "output_type": "execute_result"
    }
   ],
   "source": [
    "z.size()"
   ]
  },
  {
   "cell_type": "code",
   "execution_count": 7,
   "metadata": {},
   "outputs": [
    {
     "data": {
      "text/plain": [
       "tensor([[2., 2., 2., 2.],\n",
       "        [2., 2., 2., 2.]])"
      ]
     },
     "execution_count": 7,
     "metadata": {},
     "output_type": "execute_result"
    }
   ],
   "source": [
    "z.resize_(2,4)"
   ]
  },
  {
   "cell_type": "markdown",
   "metadata": {},
   "source": [
    "### Pasando Tensores a Numpy\n",
    "\n",
    "Antes de hacer el entrenamiento de una red es muy probable que tengamos que hacer un preprocesamiento de los datos. Usualmente, el procesamiento se hace en numpy por facilidad además que tenemos muchísimas herramientas disponibles. Afortunadamente, pytorch provee una funciones para poder convertir entre formatos de forma casi directa. Para convetir de numpy a tensor usamos *torch.from_numpy()* y para retornar de torch a numpy utilizamos el método *.numpy()*"
   ]
  },
  {
   "cell_type": "code",
   "execution_count": 8,
   "metadata": {},
   "outputs": [
    {
     "data": {
      "text/plain": [
       "array([[ 0.20273743,  0.97233966,  0.45164884],\n",
       "       [ 0.8474777 ,  0.75065332,  0.58210348],\n",
       "       [ 0.46748066,  0.73797552,  0.71817105],\n",
       "       [ 0.35484526,  0.93628444,  0.96990226]])"
      ]
     },
     "execution_count": 8,
     "metadata": {},
     "output_type": "execute_result"
    }
   ],
   "source": [
    "# generemos un array en numpy\n",
    "a = np.random.rand(4,3)\n",
    "a"
   ]
  },
  {
   "cell_type": "code",
   "execution_count": 9,
   "metadata": {},
   "outputs": [
    {
     "data": {
      "text/plain": [
       "tensor([[0.2027, 0.9723, 0.4516],\n",
       "        [0.8475, 0.7507, 0.5821],\n",
       "        [0.4675, 0.7380, 0.7182],\n",
       "        [0.3548, 0.9363, 0.9699]], dtype=torch.float64)"
      ]
     },
     "execution_count": 9,
     "metadata": {},
     "output_type": "execute_result"
    }
   ],
   "source": [
    "# convertir a pytorch\n",
    "A = torch.from_numpy(a)\n",
    "A"
   ]
  },
  {
   "cell_type": "code",
   "execution_count": 10,
   "metadata": {},
   "outputs": [],
   "source": [
    "# convertir a numpy\n",
    "b = A.numpy()"
   ]
  },
  {
   "cell_type": "markdown",
   "metadata": {},
   "source": [
    "Advertencia! Ten cuidado por que resulta que las variables convertidas de pytorch a numpy comparte memoria asi que si modificas uno se modificará el otro!"
   ]
  },
  {
   "cell_type": "code",
   "execution_count": 11,
   "metadata": {},
   "outputs": [
    {
     "data": {
      "text/plain": [
       "tensor([[0.4055, 1.9447, 0.9033],\n",
       "        [1.6950, 1.5013, 1.1642],\n",
       "        [0.9350, 1.4760, 1.4363],\n",
       "        [0.7097, 1.8726, 1.9398]], dtype=torch.float64)"
      ]
     },
     "execution_count": 11,
     "metadata": {},
     "output_type": "execute_result"
    }
   ],
   "source": [
    "# multipliquemos el tensor\n",
    "A.mul_(2)"
   ]
  },
  {
   "cell_type": "markdown",
   "metadata": {},
   "source": [
    "ahora observemos el array"
   ]
  },
  {
   "cell_type": "code",
   "execution_count": 12,
   "metadata": {},
   "outputs": [
    {
     "data": {
      "text/plain": [
       "array([[ 0.40547487,  1.94467933,  0.90329767],\n",
       "       [ 1.69495541,  1.50130663,  1.16420696],\n",
       "       [ 0.93496132,  1.47595104,  1.43634209],\n",
       "       [ 0.70969052,  1.87256888,  1.93980452]])"
      ]
     },
     "execution_count": 12,
     "metadata": {},
     "output_type": "execute_result"
    }
   ],
   "source": [
    "a"
   ]
  },
  {
   "cell_type": "markdown",
   "metadata": {},
   "source": [
    "### Perceptrón\n",
    "\n",
    "Ejercicio: implementa un perceptrón utilizando funciones de PyTorch"
   ]
  },
  {
   "cell_type": "code",
   "execution_count": 29,
   "metadata": {},
   "outputs": [
    {
     "name": "stdout",
     "output_type": "stream",
     "text": [
      "[ 2.3]\n",
      "tensor([2, 3, 4])\n",
      "tensor([0.1000, 0.1000, 0.2000], dtype=torch.float64)\n"
     ]
    },
    {
     "data": {
      "text/plain": [
       "tensor([0.9089], dtype=torch.float64)"
      ]
     },
     "execution_count": 29,
     "metadata": {},
     "output_type": "execute_result"
    }
   ],
   "source": [
    "# Implementa un perceptrón\n",
    "x_np = np.array([2.0, 3.0, 4.0])\n",
    "w_np = np.array([0.1, 0.1, 0.2])\n",
    "b_np = np.array([1.0])\n",
    "\n",
    "# en numpy seria\n",
    "h_np = None\n",
    "print(h_np)\n",
    "\n",
    "# Convierte los vectores a tensores de pytorch\n",
    "X = None\n",
    "W = None\n",
    "B = None\n",
    "# realiza las operaciones necesarias y calcula la combinación lineal h\n",
    "# algunas funciones útiles son torch.add() y torch.dot()\n",
    "H = None\n",
    "\n",
    "# Pasa h por la función de activación segmoide torch.sigmoid()\n",
    "Y = None"
   ]
  },
  {
   "cell_type": "code",
   "execution_count": 21,
   "metadata": {},
   "outputs": [
    {
     "data": {
      "text/plain": [
       "tensor(14.)"
      ]
     },
     "execution_count": 21,
     "metadata": {},
     "output_type": "execute_result"
    }
   ],
   "source": []
  },
  {
   "cell_type": "code",
   "execution_count": null,
   "metadata": {},
   "outputs": [],
   "source": []
  }
 ],
 "metadata": {
  "kernelspec": {
   "display_name": "Python 3",
   "language": "python",
   "name": "python3"
  },
  "language_info": {
   "codemirror_mode": {
    "name": "ipython",
    "version": 3
   },
   "file_extension": ".py",
   "mimetype": "text/x-python",
   "name": "python",
   "nbconvert_exporter": "python",
   "pygments_lexer": "ipython3",
   "version": "3.6.6"
  },
  "widgets": {
   "state": {},
   "version": "1.1.2"
  }
 },
 "nbformat": 4,
 "nbformat_minor": 2
}
